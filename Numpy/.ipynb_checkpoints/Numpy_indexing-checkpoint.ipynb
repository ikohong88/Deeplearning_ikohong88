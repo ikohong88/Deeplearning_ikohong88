{
 "cells": [
  {
   "cell_type": "code",
   "execution_count": 1,
   "id": "a2c5e475",
   "metadata": {},
   "outputs": [],
   "source": [
    "import numpy as np"
   ]
  },
  {
   "cell_type": "code",
   "execution_count": 4,
   "id": "eacedcd1",
   "metadata": {},
   "outputs": [
    {
     "data": {
      "text/plain": [
       "array([1, 2, 3, 4, 5, 6])"
      ]
     },
     "execution_count": 4,
     "metadata": {},
     "output_type": "execute_result"
    }
   ],
   "source": [
    "x = np.arange(1,7)\n",
    "x"
   ]
  },
  {
   "cell_type": "code",
   "execution_count": 5,
   "id": "b3562b28",
   "metadata": {},
   "outputs": [
    {
     "data": {
      "text/plain": [
       "4"
      ]
     },
     "execution_count": 5,
     "metadata": {},
     "output_type": "execute_result"
    }
   ],
   "source": [
    "# 인덱스로 값을 찾아내는 방법 (인덱스틑 0에서부터 시작)\n",
    "x[3]"
   ]
  },
  {
   "cell_type": "code",
   "execution_count": 7,
   "id": "a20aa826",
   "metadata": {},
   "outputs": [
    {
     "name": "stdout",
     "output_type": "stream",
     "text": [
      "[ 7  2  3 10  5  6]\n"
     ]
    }
   ],
   "source": [
    "# 인덱싱을 활용하여 원하는 위치의 값을 변경할 수 있음\n",
    "x[0] = 7\n",
    "x[3] = 10\n",
    "print(x)"
   ]
  },
  {
   "cell_type": "code",
   "execution_count": 14,
   "id": "c3fd3dfa",
   "metadata": {},
   "outputs": [
    {
     "data": {
      "text/plain": [
       "array([[ 1,  2,  3,  4,  5],\n",
       "       [ 6,  7,  8,  9, 10],\n",
       "       [11, 12, 13, 14, 15]])"
      ]
     },
     "execution_count": 14,
     "metadata": {},
     "output_type": "execute_result"
    }
   ],
   "source": [
    "# n차원 배열또한 인덱스로 원하는값을 찾아낼 수 있다.\n",
    "y = np.arange(1,16,1)\n",
    "y.shape = 3,5\n",
    "y"
   ]
  },
  {
   "cell_type": "code",
   "execution_count": 16,
   "id": "194ba019",
   "metadata": {},
   "outputs": [
    {
     "data": {
      "text/plain": [
       "8"
      ]
     },
     "execution_count": 16,
     "metadata": {},
     "output_type": "execute_result"
    }
   ],
   "source": [
    "y[1,2]"
   ]
  },
  {
   "cell_type": "code",
   "execution_count": 35,
   "id": "484b343b",
   "metadata": {},
   "outputs": [
    {
     "name": "stdout",
     "output_type": "stream",
     "text": [
      "배열의 전체 조회 : [0 1 2 3 4 5 6 7 8 9]\n",
      "인덱스 1 이상 5 미만의 요소 조회 : [1 2 3 4]\n",
      "배열의 길이를 모를경우, 마지막 값 조회 : [9]\n",
      "배열의 길이를 모를경우, 마지막 값을 제외한 조회 : [0 1 2 3 4 5 6 7 8]\n",
      "인덱스 2 이상의 요소 조회 : [2 3 4 5 6 7 8 9]\n",
      "인덱스 8 미만의 요소 조회 : [0 1 2 3 4 5 6 7]\n",
      "인덱스 2씩 증가하는 값 조회 : [0 2 4 6 8]\n"
     ]
    }
   ],
   "source": [
    "# 배열의 일부를 가져오기 위해서는 slicing를 활용\n",
    "# 1차원 배열 slicing\n",
    "z = np.arange(10)\n",
    "print(\"배열의 전체 조회 : {}\".format(z[:]))\n",
    "print(\"인덱스 1 이상 5 미만의 요소 조회 : {}\".format(z[1:5]))\n",
    "print(\"배열의 길이를 모를경우, 마지막 값 조회 : {}\".format(z[-1:]))\n",
    "print(\"배열의 길이를 모를경우, 마지막 값을 제외한 조회 : {}\".format(z[:-1]))\n",
    "print(\"인덱스 2 이상의 요소 조회 : {}\".format(z[2:]))\n",
    "print(\"인덱스 8 미만의 요소 조회 : {}\".format(z[:8]))\n",
    "print(\"인덱스 2씩 증가하는 값 조회 : {}\".format(z[::2]))"
   ]
  },
  {
   "cell_type": "code",
   "execution_count": 39,
   "id": "e2e821a8",
   "metadata": {},
   "outputs": [
    {
     "name": "stdout",
     "output_type": "stream",
     "text": [
      "배열의 전체 조회 : \n",
      "[[ 1  2  3  4  5]\n",
      " [ 6  7  8  9 10]\n",
      " [11 12 13 14 15]\n",
      " [16 17 18 19 20]]\n",
      "인덱스 0행 이후, 1열 이후의 요소 조회 : \n",
      "[[ 8  9 10]\n",
      " [13 14 15]\n",
      " [18 19 20]]\n",
      "인덱스 1행 이전, 1열 이전 요소 조회 : \n",
      "[[1]]\n",
      "인덱스 1행 이전, 2열 이후의 요소 조회 : \n",
      "[[3 4 5]]\n",
      "배열의 길이를 모를경우, n행 n열의 마지막 값 조회 : \n",
      "[[20]]\n"
     ]
    }
   ],
   "source": [
    "# n차원 배열 slicing\n",
    "a = np.arange(1,21).reshape(4,5)\n",
    "print(\"배열의 전체 조회 : \\n{}\".format(a[:]))\n",
    "print(\"인덱스 0행 이후, 1열 이후의 요소 조회 : \\n{}\".format(a[1:,2:]))\n",
    "print(\"인덱스 1행 이전, 1열 이전 요소 조회 : \\n{}\".format(a[:1,:1]))\n",
    "print(\"인덱스 1행 이전, 2열 이후의 요소 조회 : \\n{}\".format(a[:1,2:]))\n",
    "print(\"배열의 길이를 모를경우, n행 n열의 마지막 값 조회 : \\n{}\".format(a[-1:,-1:]))"
   ]
  },
  {
   "cell_type": "code",
   "execution_count": 43,
   "id": "801a2c31",
   "metadata": {},
   "outputs": [
    {
     "name": "stdout",
     "output_type": "stream",
     "text": [
      "[1 2 3 4 5 6 7 8 9]\n",
      "[ True  True  True  True False False False False False]\n",
      "[False False False False  True  True  True  True  True]\n"
     ]
    }
   ],
   "source": [
    "# Boolean indexing\n",
    "# 배열의 각 요소의 선택 여부를 Boolean mask를 이용하여 지정하는 방식\n",
    "b = np.arange(1,10)\n",
    "print(b)\n",
    "print(b < 5)\n",
    "print(b >= 5)"
   ]
  },
  {
   "cell_type": "code",
   "execution_count": 45,
   "id": "5dce3cdc",
   "metadata": {},
   "outputs": [
    {
     "name": "stdout",
     "output_type": "stream",
     "text": [
      "[1 2 3 4]\n",
      "[1 3 5 7 9]\n"
     ]
    }
   ],
   "source": [
    "# 조건에 해당되는 index만 출력\n",
    "print(b[b < 5])\n",
    "print(b[b % 2 != 0])"
   ]
  },
  {
   "cell_type": "code",
   "execution_count": 48,
   "id": "8421cd52",
   "metadata": {},
   "outputs": [
    {
     "name": "stdout",
     "output_type": "stream",
     "text": [
      "index 1,3,5에 위치한 값 : [11 13 15]\n"
     ]
    }
   ],
   "source": [
    "# Fancy indexing\n",
    "# 배열의 각 요소 선택을 index 배열을 전달하여 지정하는 방법\n",
    "c = np.arange(10,20)\n",
    "print(\"index 1,3,5에 위치한 값 : {}\".format(c[[1,3,5]]))"
   ]
  },
  {
   "cell_type": "code",
   "execution_count": 51,
   "id": "6c4aff2b",
   "metadata": {},
   "outputs": [
    {
     "name": "stdout",
     "output_type": "stream",
     "text": [
      "[[ 1  2  3  4]\n",
      " [ 9 10 11 12]]\n"
     ]
    }
   ],
   "source": [
    "d = np.arange(1,13,1).reshape(3,4)\n",
    "# 0행과 2행의 값 조회\n",
    "print(d[[0,2]])"
   ]
  },
  {
   "cell_type": "code",
   "execution_count": 55,
   "id": "651d5530",
   "metadata": {},
   "outputs": [
    {
     "name": "stdout",
     "output_type": "stream",
     "text": [
      "[[ 1  2  3  4]\n",
      " [ 5  6  7  8]\n",
      " [ 9 10 11 12]]\n",
      "=-=-=-=-=-=-=-=-=-=-=-=-=-=-=-=-=-=-=-=-\n",
      "[7]\n",
      "=-=-=-=-=-=-=-=-=-=-=-=-=-=-=-=-=-=-=-=-\n",
      "[ 3 11]\n",
      "=-=-=-=-=-=-=-=-=-=-=-=-=-=-=-=-=-=-=-=-\n",
      "[[ 1  2]\n",
      " [ 9 10]]\n"
     ]
    }
   ],
   "source": [
    "# Index과 Slicing 조합\n",
    "print(d)\n",
    "print(\"=-\"*20)\n",
    "print(d[1:2,2])\n",
    "print(\"=-\"*20)\n",
    "print(d[[0,2],2])\n",
    "print(\"=-\"*20)\n",
    "print(d[[0,2],:2])"
   ]
  },
  {
   "cell_type": "code",
   "execution_count": null,
   "id": "432eddf7",
   "metadata": {},
   "outputs": [],
   "source": []
  }
 ],
 "metadata": {
  "kernelspec": {
   "display_name": "Python 3 (ipykernel)",
   "language": "python",
   "name": "python3"
  },
  "language_info": {
   "codemirror_mode": {
    "name": "ipython",
    "version": 3
   },
   "file_extension": ".py",
   "mimetype": "text/x-python",
   "name": "python",
   "nbconvert_exporter": "python",
   "pygments_lexer": "ipython3",
   "version": "3.9.12"
  }
 },
 "nbformat": 4,
 "nbformat_minor": 5
}
