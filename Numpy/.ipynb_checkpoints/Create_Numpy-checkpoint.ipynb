{
 "cells": [
  {
   "cell_type": "markdown",
   "id": "825f6236",
   "metadata": {},
   "source": [
    "# Numpy"
   ]
  },
  {
   "cell_type": "markdown",
   "id": "9e2f9073",
   "metadata": {},
   "source": [
    "* Python에서 대규모 다차원 배열을 다룰 수 있게 도와주는 라이브러리\n",
    "* 데이터의 대부분은 숫자 배열로 확인 가능\n",
    "* 반복문 없이 배열 처리가 가능\n",
    "* 파이썬의 List에 비해 빠른 연산을 지원\n",
    "* 파이썬의 List에 비해 메모리를 효율적으로 사용 가능"
   ]
  },
  {
   "cell_type": "code",
   "execution_count": 3,
   "id": "298d5c66",
   "metadata": {},
   "outputs": [],
   "source": [
    "# numpy 라이브러리를 포함시킨다. - 쉽게 사용하기 위해 'np'라는 약어로 설정\n",
    "import numpy as np"
   ]
  },
  {
   "cell_type": "code",
   "execution_count": 5,
   "id": "40cdade1",
   "metadata": {},
   "outputs": [],
   "source": [
    "list_arr = list(range(5))\n",
    "np_arr = np.arange(5)"
   ]
  },
  {
   "cell_type": "code",
   "execution_count": 11,
   "id": "c6542d95",
   "metadata": {},
   "outputs": [
    {
     "name": "stdout",
     "output_type": "stream",
     "text": [
      "[0, 1, 2, 3, 4] <class 'list'>\n",
      "[0 1 2 3 4] <class 'numpy.ndarray'> int32\n"
     ]
    }
   ],
   "source": [
    "# 결과를 보면, 비슷해보이지만, List는 콤바(,)로 구분이 되어있으며, 넘파일 배열은 공백으로 구분되어있음\n",
    "print(list_arr, type(list_arr))\n",
    "print(np_arr, type(np_arr))"
   ]
  },
  {
   "cell_type": "code",
   "execution_count": 10,
   "id": "760094f0",
   "metadata": {},
   "outputs": [
    {
     "name": "stdout",
     "output_type": "stream",
     "text": [
      "[0 1 2 3 4] int32\n"
     ]
    }
   ],
   "source": [
    "# np.arange(5)랑 똑같이 배열이 생성된다.\n",
    "arr = np.array([0,1,2,3,4])\n",
    "# dtype을 이용하여, 해당 배열의 데이터 타입을 확인할 수 있다.\n",
    "print(arr, arr.dtype)"
   ]
  },
  {
   "cell_type": "code",
   "execution_count": 12,
   "id": "7d4302c4",
   "metadata": {},
   "outputs": [
    {
     "name": "stdout",
     "output_type": "stream",
     "text": [
      "[0. 1. 2. 3. 4.] float64\n"
     ]
    }
   ],
   "source": [
    "# 배열 생성시, 원하는 데이터 타입으로 지정이 가능하다.\n",
    "arr = np.array([0,1,2,3,4], dtype=float)\n",
    "# 결과를 보면, int32와는 다르게 요소뒤에 점이 붙어있는 모습(실수형 타입)을 확인할 수 있다.\n",
    "print(arr, arr.dtype)"
   ]
  },
  {
   "cell_type": "code",
   "execution_count": 13,
   "id": "bc6a9f04",
   "metadata": {},
   "outputs": [
    {
     "name": "stdout",
     "output_type": "stream",
     "text": [
      "1\n",
      "(5,)\n"
     ]
    }
   ],
   "source": [
    "# ndim = 배열의 차원 수 or 배열의 축 수\n",
    "# shape = 배열의 각 차원의 크기를 튜플(tuple)로 표현\n",
    "print(arr.ndim)\n",
    "print(arr.shape)"
   ]
  },
  {
   "cell_type": "code",
   "execution_count": 21,
   "id": "5dd954eb",
   "metadata": {},
   "outputs": [
    {
     "name": "stdout",
     "output_type": "stream",
     "text": [
      "[[1 2 3]\n",
      " [4 5 6]]\n",
      "2\n",
      "(2, 3)\n"
     ]
    }
   ],
   "source": [
    "# 2 차원 배열 (matrix)\n",
    "arr_2 = np.array([[1,2,3],[4,5,6]])\n",
    "print(arr_2)\n",
    "print(arr_2.ndim)\n",
    "print(arr_2.shape)"
   ]
  },
  {
   "cell_type": "code",
   "execution_count": 23,
   "id": "782ed916",
   "metadata": {},
   "outputs": [
    {
     "name": "stdout",
     "output_type": "stream",
     "text": [
      "arr size : 5\n",
      "arr_2 size : 6\n",
      "len(arr) : 5\n",
      "len(arr_2) : 2\n"
     ]
    }
   ],
   "source": [
    "# size = 배열의 요소의 수\n",
    "# len() = 배열의 길이 - 행(가로)의 길이\n",
    "print('arr size : {}'.format(arr.size))\n",
    "print('arr_2 size : {}'.format(arr_2.size))\n",
    "print('len(arr) : {}'.format(len(arr)))\n",
    "print('len(arr_2) : {}'.format(len(arr_2)))"
   ]
  },
  {
   "cell_type": "code",
   "execution_count": 5,
   "id": "082624c5",
   "metadata": {},
   "outputs": [
    {
     "data": {
      "text/plain": [
       "array([[1, 2, 3],\n",
       "       [4, 5, 6],\n",
       "       [7, 8, 9]])"
      ]
     },
     "execution_count": 5,
     "metadata": {},
     "output_type": "execute_result"
    }
   ],
   "source": [
    "# 차원을 변경하여 모양을 바꿀 수 있다.\n",
    "arr_3 = np.arange(1,10)\n",
    "arr_3.shape = 3,3\n",
    "arr_3"
   ]
  },
  {
   "cell_type": "code",
   "execution_count": 7,
   "id": "9a8475b7",
   "metadata": {},
   "outputs": [
    {
     "data": {
      "text/plain": [
       "array([[1, 2, 3],\n",
       "       [4, 5, 6],\n",
       "       [7, 8, 9]])"
      ]
     },
     "execution_count": 7,
     "metadata": {},
     "output_type": "execute_result"
    }
   ],
   "source": [
    "# 생셩할때 차원의 모양을 바꿀수도 있다.\n",
    "arr_4 = np.arange(1,10).reshape(3,3)\n",
    "arr_4"
   ]
  },
  {
   "cell_type": "code",
   "execution_count": null,
   "id": "9eaed09d",
   "metadata": {},
   "outputs": [],
   "source": []
  }
 ],
 "metadata": {
  "kernelspec": {
   "display_name": "Python 3 (ipykernel)",
   "language": "python",
   "name": "python3"
  },
  "language_info": {
   "codemirror_mode": {
    "name": "ipython",
    "version": 3
   },
   "file_extension": ".py",
   "mimetype": "text/x-python",
   "name": "python",
   "nbconvert_exporter": "python",
   "pygments_lexer": "ipython3",
   "version": "3.9.12"
  }
 },
 "nbformat": 4,
 "nbformat_minor": 5
}
