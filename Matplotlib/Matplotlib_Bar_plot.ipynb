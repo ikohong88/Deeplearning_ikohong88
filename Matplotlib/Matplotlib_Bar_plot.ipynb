{
 "cells": [
  {
   "cell_type": "markdown",
   "id": "42ae070c",
   "metadata": {},
   "source": [
    "# Bar plot 그래프"
   ]
  },
  {
   "cell_type": "code",
   "execution_count": 5,
   "id": "886bd249",
   "metadata": {},
   "outputs": [],
   "source": [
    "import matplotlib.pyplot as plt\n",
    "import numpy as np"
   ]
  },
  {
   "cell_type": "code",
   "execution_count": 20,
   "id": "2ff1b678",
   "metadata": {},
   "outputs": [
    {
     "data": {
      "text/plain": [
       "<BarContainer object of 5 artists>"
      ]
     },
     "execution_count": 20,
     "metadata": {},
     "output_type": "execute_result"
    },
    {
     "data": {
      "image/png": "[encoded data removed]",
      "text/plain": [
       "<Figure size 720x144 with 1 Axes>"
      ]
     },
     "metadata": {
      "needs_background": "light"
     },
     "output_type": "display_data"
    }
   ],
   "source": [
    "x = np.arange(5)\n",
    "# figsize = 그래프 가로, 세로 크기\n",
    "fig, ax = plt.subplots(figsize=(10, 2))\n",
    "ax.bar(x,x*2)"
   ]
  },
  {
   "cell_type": "markdown",
   "id": "a0a325e5",
   "metadata": {},
   "source": [
    "### 여러 데이터 합치기"
   ]
  },
  {
   "cell_type": "code",
   "execution_count": 21,
   "id": "ecfd540b",
   "metadata": {},
   "outputs": [],
   "source": [
    "a = np.random.rand(3)\n",
    "b = np.random.rand(3)\n",
    "c = np.random.rand(3)"
   ]
  },
  {
   "cell_type": "code",
   "execution_count": 22,
   "id": "6f10df3e",
   "metadata": {},
   "outputs": [],
   "source": [
    "data = [a,b,c]"
   ]
  },
  {
   "cell_type": "code",
   "execution_count": 29,
   "id": "0810057d",
   "metadata": {},
   "outputs": [
    {
     "data": {
      "text/plain": [
       "[Text(0, 0, 'A'), Text(1, 0, 'B'), Text(2, 0, 'C')]"
      ]
     },
     "execution_count": 29,
     "metadata": {},
     "output_type": "execute_result"
    },
    {
     "data": {
      "image/png": "[encoded data removed]",
      "text/plain": [
       "<Figure size 432x288 with 1 Axes>"
      ]
     },
     "metadata": {
      "needs_background": "light"
     },
     "output_type": "display_data"
    }
   ],
   "source": [
    "fig, ax = plt.subplots()\n",
    "a_ax = np.arange(3)\n",
    "for i in a_ax:\n",
    "    ax.bar(a_ax, data[i],\n",
    "          bottom = np.sum(data[:i], axis = 0))\n",
    "    \n",
    "# 하단 X축 값 설정 및 X축 라벨명 변경\n",
    "ax.set_xticks(a_ax)\n",
    "ax.set_xticklabels([\"A\",\"B\",\"C\"])"
   ]
  },
  {
   "cell_type": "code",
   "execution_count": null,
   "id": "1ed59a5c",
   "metadata": {},
   "outputs": [],
   "source": []
  }
 ],
 "metadata": {
  "kernelspec": {
   "display_name": "Python 3 (ipykernel)",
   "language": "python",
   "name": "python3"
  },
  "language_info": {
   "codemirror_mode": {
    "name": "ipython",
    "version": 3
   },
   "file_extension": ".py",
   "mimetype": "text/x-python",
   "name": "python",
   "nbconvert_exporter": "python",
   "pygments_lexer": "ipython3",
   "version": "3.9.7"
  }
 },
 "nbformat": 4,
 "nbformat_minor": 5
}
