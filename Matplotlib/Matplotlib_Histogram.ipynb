{
 "cells": [
  {
   "cell_type": "markdown",
   "id": "0f836984",
   "metadata": {},
   "source": [
    "# Histogram"
   ]
  },
  {
   "cell_type": "code",
   "execution_count": 1,
   "id": "39f63985",
   "metadata": {},
   "outputs": [],
   "source": [
    "import matplotlib.pyplot as plt\n",
    "import numpy as np"
   ]
  },
  {
   "cell_type": "code",
   "execution_count": 4,
   "id": "a4aa7b77",
   "metadata": {},
   "outputs": [
    {
     "data": {
      "text/plain": [
       "(array([ 1.,  0.,  1.,  1.,  2.,  1.,  0.,  1.,  6.,  0.,  2.,  5.,  6.,\n",
       "         4.,  6.,  6.,  6.,  5., 10.,  8., 11.,  7., 16., 16., 21., 10.,\n",
       "        20., 25., 21., 29., 23., 28., 35., 24., 46., 39., 37., 39., 43.,\n",
       "        56., 52., 41., 45., 50., 53., 63., 60., 52., 59., 43., 47., 41.,\n",
       "        51., 37., 48., 48., 46., 37., 43., 31., 39., 35., 36., 30., 30.,\n",
       "        35., 29., 24., 18., 19., 18., 11., 10., 12., 11., 12., 12.,  7.,\n",
       "         9.,  5.,  7.,  8.,  3.,  1.,  1.,  1.,  5.,  0.,  0.,  0.,  1.,\n",
       "         3.,  0.,  0.,  2.,  1.,  0.,  0.,  0.,  1.]),\n",
       " array([-3.19577145, -3.12882014, -3.06186884, -2.99491754, -2.92796624,\n",
       "        -2.86101493, -2.79406363, -2.72711233, -2.66016103, -2.59320973,\n",
       "        -2.52625842, -2.45930712, -2.39235582, -2.32540452, -2.25845321,\n",
       "        -2.19150191, -2.12455061, -2.05759931, -1.99064801, -1.9236967 ,\n",
       "        -1.8567454 , -1.7897941 , -1.7228428 , -1.65589149, -1.58894019,\n",
       "        -1.52198889, -1.45503759, -1.38808629, -1.32113498, -1.25418368,\n",
       "        -1.18723238, -1.12028108, -1.05332977, -0.98637847, -0.91942717,\n",
       "        -0.85247587, -0.78552456, -0.71857326, -0.65162196, -0.58467066,\n",
       "        -0.51771936, -0.45076805, -0.38381675, -0.31686545, -0.24991415,\n",
       "        -0.18296284, -0.11601154, -0.04906024,  0.01789106,  0.08484236,\n",
       "         0.15179367,  0.21874497,  0.28569627,  0.35264757,  0.41959888,\n",
       "         0.48655018,  0.55350148,  0.62045278,  0.68740408,  0.75435539,\n",
       "         0.82130669,  0.88825799,  0.95520929,  1.0221606 ,  1.0891119 ,\n",
       "         1.1560632 ,  1.2230145 ,  1.28996581,  1.35691711,  1.42386841,\n",
       "         1.49081971,  1.55777101,  1.62472232,  1.69167362,  1.75862492,\n",
       "         1.82557622,  1.89252753,  1.95947883,  2.02643013,  2.09338143,\n",
       "         2.16033273,  2.22728404,  2.29423534,  2.36118664,  2.42813794,\n",
       "         2.49508925,  2.56204055,  2.62899185,  2.69594315,  2.76289445,\n",
       "         2.82984576,  2.89679706,  2.96374836,  3.03069966,  3.09765097,\n",
       "         3.16460227,  3.23155357,  3.29850487,  3.36545618,  3.43240748,\n",
       "         3.49935878]),\n",
       " <BarContainer object of 100 artists>)"
      ]
     },
     "execution_count": 4,
     "metadata": {},
     "output_type": "execute_result"
    },
    {
     "data": {
      "image/png": "[encoded data removed]",
      "text/plain": [
       "<Figure size 432x288 with 1 Axes>"
      ]
     },
     "metadata": {
      "needs_background": "light"
     },
     "output_type": "display_data"
    }
   ],
   "source": [
    "fig, ax = plt.subplots()\n",
    "\n",
    "# 2000개의 랜덤값을 포함한 배열 생성\n",
    "data = np.random.randn(2000)\n",
    "\n",
    "# 해당 데이터를 100개의 bar로 구분하여, 그래프로 생성\n",
    "ax.hist(data, bins=100)"
   ]
  },
  {
   "cell_type": "code",
   "execution_count": null,
   "id": "432e88ce",
   "metadata": {},
   "outputs": [],
   "source": []
  }
 ],
 "metadata": {
  "kernelspec": {
   "display_name": "Python 3 (ipykernel)",
   "language": "python",
   "name": "python3"
  },
  "language_info": {
   "codemirror_mode": {
    "name": "ipython",
    "version": 3
   },
   "file_extension": ".py",
   "mimetype": "text/x-python",
   "name": "python",
   "nbconvert_exporter": "python",
   "pygments_lexer": "ipython3",
   "version": "3.9.7"
  }
 },
 "nbformat": 4,
 "nbformat_minor": 5
}
