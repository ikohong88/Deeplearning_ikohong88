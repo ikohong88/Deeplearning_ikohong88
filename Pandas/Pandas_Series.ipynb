{
 "cells": [
  {
   "cell_type": "code",
   "execution_count": 1,
   "id": "9b539a54",
   "metadata": {},
   "outputs": [],
   "source": [
    "import pandas as pd"
   ]
  },
  {
   "cell_type": "code",
   "execution_count": 25,
   "id": "9314a291",
   "metadata": {},
   "outputs": [
    {
     "name": "stdout",
     "output_type": "stream",
     "text": [
      "0    1\n",
      "1    2\n",
      "2    3\n",
      "3    4\n",
      "dtype: int64\n"
     ]
    }
   ],
   "source": [
    "data = pd.Series([1,2,3,4])\n",
    "# 출력 결과 왼쪽 : index, 오른쪽 : Data, dtype : Data Type\n",
    "print(data)"
   ]
  },
  {
   "cell_type": "code",
   "execution_count": 26,
   "id": "00b814cb",
   "metadata": {},
   "outputs": [
    {
     "name": "stdout",
     "output_type": "stream",
     "text": [
      "<class 'pandas.core.series.Series'>\n"
     ]
    }
   ],
   "source": [
    "# 데이터 타입 출력\n",
    "print(type(data))"
   ]
  },
  {
   "cell_type": "code",
   "execution_count": 27,
   "id": "024af203",
   "metadata": {},
   "outputs": [
    {
     "name": "stdout",
     "output_type": "stream",
     "text": [
      "[1 2 3 4]\n"
     ]
    }
   ],
   "source": [
    "# 데이터값 출력\n",
    "print(data.values)"
   ]
  },
  {
   "cell_type": "code",
   "execution_count": 28,
   "id": "672cc485",
   "metadata": {},
   "outputs": [
    {
     "name": "stdout",
     "output_type": "stream",
     "text": [
      "<class 'numpy.ndarray'>\n"
     ]
    }
   ],
   "source": [
    "# 데이터값 타입 출력\n",
    "print(type(data.values))"
   ]
  },
  {
   "cell_type": "code",
   "execution_count": 29,
   "id": "8c1b7818",
   "metadata": {},
   "outputs": [
    {
     "name": "stdout",
     "output_type": "stream",
     "text": [
      "0    1.0\n",
      "1    2.0\n",
      "2    3.0\n",
      "3    4.0\n",
      "dtype: float64\n"
     ]
    }
   ],
   "source": [
    "# dtype을 활용하여 데이터 타입 지정 가능\n",
    "data_1 = pd.Series([1,2,3,4], dtype='float')\n",
    "print(data_1)"
   ]
  },
  {
   "cell_type": "code",
   "execution_count": 30,
   "id": "f1a6b571",
   "metadata": {},
   "outputs": [
    {
     "name": "stdout",
     "output_type": "stream",
     "text": [
      "float64\n"
     ]
    }
   ],
   "source": [
    "# 변경된 데이터 타입을 확인할 수 있다.\n",
    "print(data_1.dtype)"
   ]
  },
  {
   "cell_type": "code",
   "execution_count": 22,
   "id": "c3ea18cd",
   "metadata": {},
   "outputs": [
    {
     "name": "stdout",
     "output_type": "stream",
     "text": [
      "a    1\n",
      "b    2\n",
      "c    3\n",
      "d    4\n",
      "dtype: int64\n"
     ]
    }
   ],
   "source": [
    "# 인덱스값 변경 가능\n",
    "data_2 = pd.Series([1,2,3,4], index=['a','b','c','d'])\n",
    "print(data_2)"
   ]
  },
  {
   "cell_type": "code",
   "execution_count": 24,
   "id": "02dbd7f0",
   "metadata": {},
   "outputs": [
    {
     "data": {
      "text/plain": [
       "3"
      ]
     },
     "execution_count": 24,
     "metadata": {},
     "output_type": "execute_result"
    }
   ],
   "source": [
    "# 변경된 인덱스 값으로 접근 가능\n",
    "data_2['c']"
   ]
  },
  {
   "cell_type": "code",
   "execution_count": 31,
   "id": "abb1dcbf",
   "metadata": {},
   "outputs": [
    {
     "name": "stdout",
     "output_type": "stream",
     "text": [
      "a    1\n",
      "b    2\n",
      "c    5\n",
      "d    4\n",
      "dtype: int64\n"
     ]
    }
   ],
   "source": [
    "# 인덱스에 접근하여, 해당 데이터 변경 가능\n",
    "data_2['c'] = 5\n",
    "print(data_2)"
   ]
  },
  {
   "cell_type": "markdown",
   "id": "bdfff384",
   "metadata": {},
   "source": [
    "### Dictionary를 활용한 Series 생성"
   ]
  },
  {
   "cell_type": "code",
   "execution_count": 33,
   "id": "cdd94c7d",
   "metadata": {},
   "outputs": [],
   "source": [
    "pd_dict = {\n",
    "    'numpy':1,\n",
    "    'pandas':2,\n",
    "    'matplotlib':3,\n",
    "    'sklearn':4,\n",
    "    'tensorflow':5\n",
    "}"
   ]
  },
  {
   "cell_type": "code",
   "execution_count": 35,
   "id": "32cbcdd0",
   "metadata": {},
   "outputs": [
    {
     "name": "stdout",
     "output_type": "stream",
     "text": [
      "numpy         1\n",
      "pandas        2\n",
      "matplotlib    3\n",
      "sklearn       4\n",
      "tensorflow    5\n",
      "dtype: int64\n"
     ]
    }
   ],
   "source": [
    "dict_to_pd = pd.Series(pd_dict)\n",
    "print(dict_to_pd)"
   ]
  },
  {
   "cell_type": "code",
   "execution_count": null,
   "id": "b3dc732e",
   "metadata": {},
   "outputs": [],
   "source": []
  }
 ],
 "metadata": {
  "kernelspec": {
   "display_name": "Python 3 (ipykernel)",
   "language": "python",
   "name": "python3"
  },
  "language_info": {
   "codemirror_mode": {
    "name": "ipython",
    "version": 3
   },
   "file_extension": ".py",
   "mimetype": "text/x-python",
   "name": "python",
   "nbconvert_exporter": "python",
   "pygments_lexer": "ipython3",
   "version": "3.9.7"
  }
 },
 "nbformat": 4,
 "nbformat_minor": 5
}
