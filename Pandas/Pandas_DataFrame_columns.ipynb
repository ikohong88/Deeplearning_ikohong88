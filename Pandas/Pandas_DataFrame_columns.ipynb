{
 "cells": [
  {
   "cell_type": "markdown",
   "id": "dc9ead9d",
   "metadata": {},
   "source": [
    "# Pandas_DataFrame_columns"
   ]
  },
  {
   "cell_type": "code",
   "execution_count": 1,
   "id": "18a7d947",
   "metadata": {},
   "outputs": [],
   "source": [
    "import pandas as pd"
   ]
  },
  {
   "cell_type": "code",
   "execution_count": 2,
   "id": "84834b85",
   "metadata": {},
   "outputs": [
    {
     "data": {
      "text/html": [
       "<div>\n",
       "<style scoped>\n",
       "    .dataframe tbody tr th:only-of-type {\n",
       "        vertical-align: middle;\n",
       "    }\n",
       "\n",
       "    .dataframe tbody tr th {\n",
       "        vertical-align: top;\n",
       "    }\n",
       "\n",
       "    .dataframe thead th {\n",
       "        text-align: right;\n",
       "    }\n",
       "</style>\n",
       "<table border=\"1\" class=\"dataframe\">\n",
       "  <thead>\n",
       "    <tr style=\"text-align: right;\">\n",
       "      <th></th>\n",
       "      <th>gdp</th>\n",
       "      <th>population</th>\n",
       "    </tr>\n",
       "    <tr>\n",
       "      <th>country</th>\n",
       "      <th></th>\n",
       "      <th></th>\n",
       "    </tr>\n",
       "  </thead>\n",
       "  <tbody>\n",
       "    <tr>\n",
       "      <th>china</th>\n",
       "      <td>1409250000</td>\n",
       "      <td>141500</td>\n",
       "    </tr>\n",
       "    <tr>\n",
       "      <th>japan</th>\n",
       "      <td>516700000</td>\n",
       "      <td>12718</td>\n",
       "    </tr>\n",
       "    <tr>\n",
       "      <th>korea</th>\n",
       "      <td>169320000</td>\n",
       "      <td>5180</td>\n",
       "    </tr>\n",
       "    <tr>\n",
       "      <th>usa</th>\n",
       "      <td>2041280000</td>\n",
       "      <td>32676</td>\n",
       "    </tr>\n",
       "  </tbody>\n",
       "</table>\n",
       "</div>"
      ],
      "text/plain": [
       "                gdp  population\n",
       "country                        \n",
       "china    1409250000      141500\n",
       "japan     516700000       12718\n",
       "korea     169320000        5180\n",
       "usa      2041280000       32676"
      ]
     },
     "execution_count": 2,
     "metadata": {},
     "output_type": "execute_result"
    }
   ],
   "source": [
    "# Dictionary 생성\n",
    "dict_country = {\n",
    "    'country': ['china','japan','korea','usa'],\n",
    "    'gdp': [1409250000,516700000, 169320000, 2041280000],\n",
    "    'population': [141500,12718, 5180, 32676]\n",
    "}\n",
    "\n",
    "# DataFrame 생성\n",
    "df_country = pd.DataFrame(dict_country)\n",
    "\n",
    "# index 셋팅\n",
    "df_country = df_country.set_index('country')\n",
    "\n",
    "df_country"
   ]
  },
  {
   "cell_type": "code",
   "execution_count": 3,
   "id": "f1603383",
   "metadata": {},
   "outputs": [
    {
     "data": {
      "text/plain": [
       "country\n",
       "china    1409250000\n",
       "japan     516700000\n",
       "korea     169320000\n",
       "usa      2041280000\n",
       "Name: gdp, dtype: int64"
      ]
     },
     "execution_count": 3,
     "metadata": {},
     "output_type": "execute_result"
    }
   ],
   "source": [
    "# 컬럼명으로 데이터 검색 - Series 출력\n",
    "df_country['gdp']"
   ]
  },
  {
   "cell_type": "code",
   "execution_count": 5,
   "id": "24cfd628",
   "metadata": {},
   "outputs": [
    {
     "data": {
      "text/html": [
       "<div>\n",
       "<style scoped>\n",
       "    .dataframe tbody tr th:only-of-type {\n",
       "        vertical-align: middle;\n",
       "    }\n",
       "\n",
       "    .dataframe tbody tr th {\n",
       "        vertical-align: top;\n",
       "    }\n",
       "\n",
       "    .dataframe thead th {\n",
       "        text-align: right;\n",
       "    }\n",
       "</style>\n",
       "<table border=\"1\" class=\"dataframe\">\n",
       "  <thead>\n",
       "    <tr style=\"text-align: right;\">\n",
       "      <th></th>\n",
       "      <th>gdp</th>\n",
       "    </tr>\n",
       "    <tr>\n",
       "      <th>country</th>\n",
       "      <th></th>\n",
       "    </tr>\n",
       "  </thead>\n",
       "  <tbody>\n",
       "    <tr>\n",
       "      <th>china</th>\n",
       "      <td>1409250000</td>\n",
       "    </tr>\n",
       "    <tr>\n",
       "      <th>japan</th>\n",
       "      <td>516700000</td>\n",
       "    </tr>\n",
       "    <tr>\n",
       "      <th>korea</th>\n",
       "      <td>169320000</td>\n",
       "    </tr>\n",
       "    <tr>\n",
       "      <th>usa</th>\n",
       "      <td>2041280000</td>\n",
       "    </tr>\n",
       "  </tbody>\n",
       "</table>\n",
       "</div>"
      ],
      "text/plain": [
       "                gdp\n",
       "country            \n",
       "china    1409250000\n",
       "japan     516700000\n",
       "korea     169320000\n",
       "usa      2041280000"
      ]
     },
     "execution_count": 5,
     "metadata": {},
     "output_type": "execute_result"
    }
   ],
   "source": [
    "# 컬럼명으로 데이터 검색 - DataFrame 출력\n",
    "df_country[['gdp']]"
   ]
  },
  {
   "cell_type": "code",
   "execution_count": null,
   "id": "90029890",
   "metadata": {},
   "outputs": [],
   "source": []
  }
 ],
 "metadata": {
  "kernelspec": {
   "display_name": "Python 3 (ipykernel)",
   "language": "python",
   "name": "python3"
  },
  "language_info": {
   "codemirror_mode": {
    "name": "ipython",
    "version": 3
   },
   "file_extension": ".py",
   "mimetype": "text/x-python",
   "name": "python",
   "nbconvert_exporter": "python",
   "pygments_lexer": "ipython3",
   "version": "3.9.7"
  }
 },
 "nbformat": 4,
 "nbformat_minor": 5
}
