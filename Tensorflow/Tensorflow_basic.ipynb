{
 "cells": [
  {
   "cell_type": "markdown",
   "id": "36c79301",
   "metadata": {},
   "source": [
    "# Tensorflow 2.x\n",
    "* Tensorflow 딥러닝 모델은 Tensor 형태의 데이터를 입력 받는다.\n",
    "* 여기서 Tensor는 다차원 배열"
   ]
  },
  {
   "cell_type": "markdown",
   "id": "6804cc77",
   "metadata": {},
   "source": [
    "* Tensorflow 1.x에 있던 Session() 과 placeholder()가 없어짐\n",
    "* 케라스(Keras)가 공식 API로 채택이 됨\n",
    "* 즉시 실행 모드라고 불리는 Eager Execution 모드가 적용\n",
    "> * 계산 그래프 (Computational Graph)와 세션(Session)을 생성하는 방식인 Lazy Evaluation 방식에서 코드가 작성된 순서대로 즉시 실행 가능한 Eager Exeution Mode가 적용됨"
   ]
  },
  {
   "cell_type": "code",
   "execution_count": 15,
   "id": "7af0c182",
   "metadata": {},
   "outputs": [],
   "source": [
    "import tensorflow as tf"
   ]
  },
  {
   "cell_type": "code",
   "execution_count": 16,
   "id": "5c3da68c",
   "metadata": {},
   "outputs": [],
   "source": [
    "# 상수 노드\n",
    "a = tf.constant(1.0)\n",
    "b = tf.constant(2.0)\n",
    "c = tf.constant([ [1.0,2.0],[3.0,4.0] ])"
   ]
  },
  {
   "cell_type": "code",
   "execution_count": 17,
   "id": "5da8ed01",
   "metadata": {},
   "outputs": [
    {
     "name": "stdout",
     "output_type": "stream",
     "text": [
      "tf.Tensor(1.0, shape=(), dtype=float32)\n",
      "tf.Tensor(3.0, shape=(), dtype=float32)\n",
      "tf.Tensor(\n",
      "[[1. 2.]\n",
      " [3. 4.]], shape=(2, 2), dtype=float32)\n"
     ]
    }
   ],
   "source": [
    "print(a)\n",
    "print(a+b)\n",
    "print(c)"
   ]
  },
  {
   "cell_type": "code",
   "execution_count": 30,
   "id": "8dcd541e",
   "metadata": {},
   "outputs": [
    {
     "name": "stdout",
     "output_type": "stream",
     "text": [
      "step = 0 | d = [2.8063905]\n",
      "step = 1 | d = [3.8063905]\n",
      "step = 2 | d = [4.806391]\n"
     ]
    }
   ],
   "source": [
    "# 변수 노드\n",
    "# 변하는 값을 확인하기 위하여 random 적용\n",
    "d = tf.Variable(tf.random.normal([1]))\n",
    "\n",
    "for step in range(3):\n",
    "    # d += 1.0 코드는 적용이 안됨\n",
    "    d = d + 1.0\n",
    "    print('step = {} | d = {}'.format(step,d))"
   ]
  },
  {
   "cell_type": "code",
   "execution_count": null,
   "id": "48fecf75",
   "metadata": {},
   "outputs": [],
   "source": []
  }
 ],
 "metadata": {
  "kernelspec": {
   "display_name": "Python 3 (ipykernel)",
   "language": "python",
   "name": "python3"
  },
  "language_info": {
   "codemirror_mode": {
    "name": "ipython",
    "version": 3
   },
   "file_extension": ".py",
   "mimetype": "text/x-python",
   "name": "python",
   "nbconvert_exporter": "python",
   "pygments_lexer": "ipython3",
   "version": "3.9.7"
  }
 },
 "nbformat": 4,
 "nbformat_minor": 5
}
